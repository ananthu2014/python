{
 "cells": [
  {
   "cell_type": "code",
   "execution_count": null,
   "id": "610892af",
   "metadata": {},
   "outputs": [],
   "source": [
    "from enum import Enum"
   ]
  },
  {
   "cell_type": "code",
   "execution_count": null,
   "id": "b1945325",
   "metadata": {},
   "outputs": [],
   "source": [
    "class Color(Enum):\n",
    "    red=1\n",
    "    blue=2\n",
    "    green=3"
   ]
  },
  {
   "cell_type": "code",
   "execution_count": null,
   "id": "a9809a6a",
   "metadata": {},
   "outputs": [],
   "source": [
    "Color.red"
   ]
  },
  {
   "cell_type": "code",
   "execution_count": null,
   "id": "6aad3cd8",
   "metadata": {},
   "outputs": [],
   "source": [
    "for color in Color:\n",
    "    print(color.name,color.value)"
   ]
  },
  {
   "cell_type": "code",
   "execution_count": null,
   "id": "6a6b1ab9",
   "metadata": {},
   "outputs": [],
   "source": [
    "my_color='red'\n",
    "if my_color == Color.red:\n",
    "    print(True)"
   ]
  },
  {
   "cell_type": "code",
   "execution_count": null,
   "id": "53d84779",
   "metadata": {},
   "outputs": [],
   "source": [
    "print(Color.red)"
   ]
  },
  {
   "cell_type": "code",
   "execution_count": null,
   "id": "644bcc89",
   "metadata": {},
   "outputs": [],
   "source": [
    "class Color(Enum):\n",
    "    RED = 1\n",
    "    GREEN = 2\n",
    "    BLUE = 3\n",
    "for color in Color:\n",
    "    print(color.name, color.value)\n",
    "\n"
   ]
  },
  {
   "cell_type": "code",
   "execution_count": null,
   "id": "729e238e",
   "metadata": {},
   "outputs": [],
   "source": [
    "my_color = Color.RED\n",
    "print(my_color)\n",
    "print(type(my_color))\n",
    "print(Color.RED.value)\n",
    "print(my_color.value)\n",
    "print(my_color.name)\n",
    "print(Color.RED.name)"
   ]
  },
  {
   "cell_type": "code",
   "execution_count": null,
   "id": "64c427da",
   "metadata": {},
   "outputs": [],
   "source": [
    "if my_color == Color.RED:\n",
    "    print(\"It's red!\")\n",
    "def set_light(color: Color):\n",
    "    if color == Color.RED:\n",
    "        print(\"Stop!\")\n",
    "    elif color == Color.GREEN:\n",
    "        print(\"Go!\")"
   ]
  },
  {
   "cell_type": "code",
   "execution_count": null,
   "id": "90d7fbc3",
   "metadata": {},
   "outputs": [],
   "source": [
    "# Define a function called set_light, which takes a parameter color of type Color\n",
    "def set_light(color: Color):\n",
    "    print(f\"The light is set to {color.name}\")\n",
    "\n",
    "# Call the set_light function with different Color enum values\n",
    "set_light(Color.RED)\n",
    "set_light(Color.GREEN)\n",
    "set_light(Color.BLUE)"
   ]
  }
 ],
 "metadata": {
  "kernelspec": {
   "display_name": "Python 3 (ipykernel)",
   "language": "python",
   "name": "python3"
  },
  "language_info": {
   "codemirror_mode": {
    "name": "ipython",
    "version": 3
   },
   "file_extension": ".py",
   "mimetype": "text/x-python",
   "name": "python",
   "nbconvert_exporter": "python",
   "pygments_lexer": "ipython3",
   "version": "3.9.13"
  }
 },
 "nbformat": 4,
 "nbformat_minor": 5
}
